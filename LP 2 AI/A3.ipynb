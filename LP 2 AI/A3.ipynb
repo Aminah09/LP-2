{
 "cells": [
  {
   "cell_type": "markdown",
   "id": "e0773dc6",
   "metadata": {},
   "source": [
    "# Assignment 3\n",
    "\n",
    "Name: Amina Shaikh <br>\n",
    "Roll No.: 3369 <br>\n",
    "\n",
    "Implement N-Queens Problem as Constraints Satisfaction Problem."
   ]
  },
  {
   "cell_type": "code",
   "execution_count": 1,
   "id": "a7dbcfc2",
   "metadata": {},
   "outputs": [
    {
     "name": "stdout",
     "output_type": "stream",
     "text": [
      "Enter the number of Queens : 8\n",
      "\n",
      "Q  .  .  .  .  .  .  .\n",
      ".  .  .  .  .  .  Q  .\n",
      ".  .  .  .  Q  .  .  .\n",
      ".  .  .  .  .  .  .  Q\n",
      ".  Q  .  .  .  .  .  .\n",
      ".  .  .  Q  .  .  .  .\n",
      ".  .  .  .  .  Q  .  .\n",
      ".  .  Q  .  .  .  .  .\n"
     ]
    }
   ],
   "source": [
    "def print_board(board):\n",
    "    for row in board:\n",
    "        print(\"  \".join(row))\n",
    "        \n",
    "def is_safe(board, row, col):\n",
    "    for i in range(col):\n",
    "        if board[row][i] == \"Q\":\n",
    "            return False\n",
    "        \n",
    "    for i, j in zip (range(row, -1, -1), range(col, -1, -1)):\n",
    "        if board[i][j] == \"Q\":\n",
    "            return False\n",
    "        \n",
    "    for i, j in zip(range(row, len(board), 1), range(col, -1, -1)):\n",
    "        if board[i][j] == \"Q\":\n",
    "            return False\n",
    "        \n",
    "    return True\n",
    "\n",
    "def solve(board, col):\n",
    "    if col >= len(board):\n",
    "                 return True\n",
    "    for i in range(len(board)):\n",
    "        if is_safe(board, i, col):\n",
    "            board[i][col] = \"Q\"\n",
    "            if solve(board, col+1):\n",
    "                return True\n",
    "            board[i][col] = \".\"\n",
    "    return False\n",
    "                  \n",
    "n = int(input(\"Enter the number of Queens : \"))\n",
    "print()\n",
    "board = [[ \".\" for i in range (n)] for j in range(n)]\n",
    "\n",
    "if solve(board, 0):\n",
    "    print_board(board)\n",
    "          \n",
    "else:\n",
    "    print(\"Solution not found\")"
   ]
  }
 ],
 "metadata": {
  "kernelspec": {
   "display_name": "Python 3 (ipykernel)",
   "language": "python",
   "name": "python3"
  },
  "language_info": {
   "codemirror_mode": {
    "name": "ipython",
    "version": 3
   },
   "file_extension": ".py",
   "mimetype": "text/x-python",
   "name": "python",
   "nbconvert_exporter": "python",
   "pygments_lexer": "ipython3",
   "version": "3.9.7"
  }
 },
 "nbformat": 4,
 "nbformat_minor": 5
}
