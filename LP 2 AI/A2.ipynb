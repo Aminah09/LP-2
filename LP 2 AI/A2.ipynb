{
 "cells": [
  {
   "cell_type": "markdown",
   "id": "f7887ced",
   "metadata": {},
   "source": [
    "# Assignment 2\n",
    "\n",
    "Name: Amina Shaikh <br>\n",
    "Roll No.: 3369 <br>\n",
    "\n",
    "Write a program for Water jug problem"
   ]
  },
  {
   "cell_type": "code",
   "execution_count": 3,
   "id": "e14ffeff",
   "metadata": {},
   "outputs": [
    {
     "name": "stdout",
     "output_type": "stream",
     "text": [
      "Enter the maximum capacity of jug1: 3\n",
      "Enter the maximum capacity of jug2: 4\n",
      "Enter the desired final capacity: 2\n",
      "JUG1\tJUG2\n",
      "0\t0\n",
      "3\t0\n",
      "0\t3\n",
      "3\t3\n",
      "2\t4\n",
      "2\t0\n",
      "0\t2\n"
     ]
    }
   ],
   "source": [
    "def pour(jug1, jug2, max1, max2, fill):\n",
    "    print(\"%d\\t%d\" % (jug1, jug2))\n",
    "    \n",
    "    if jug2==fill:\n",
    "        return\n",
    "    \n",
    "    elif jug2==max2:\n",
    "        pour(jug1,0,max1,max2,fill)\n",
    "        \n",
    "    elif jug1!=0 and jug2==0:\n",
    "        pour(0,jug1,max1,max2,fill)\n",
    "        \n",
    "    elif jug1==fill:\n",
    "        pour(jug1,0,max1,max2,fill)\n",
    "        \n",
    "    elif jug1<max1:\n",
    "        pour(max1, jug2,max1,max2,fill)\n",
    "        \n",
    "    elif jug1<(max2-jug2):\n",
    "        pour(0,(jug1+jug2),max1,max2,fill)\n",
    "        \n",
    "    else:\n",
    "        pour(jug1-(max2-jug2),(max2-jug2)+jug2,max1,max2,fill)\n",
    "\n",
    "max1 = int(input(\"Enter the maximum capacity of jug1: \"))\n",
    "max2 = int(input(\"Enter the maximum capacity of jug2: \"))\n",
    "fill = int(input(\"Enter the desired final capacity: \"))\n",
    "\n",
    "print(\"JUG1\\tJUG2\")\n",
    "pour(0,0,max1,max2,fill)\n"
   ]
  }
 ],
 "metadata": {
  "kernelspec": {
   "display_name": "Python 3 (ipykernel)",
   "language": "python",
   "name": "python3"
  },
  "language_info": {
   "codemirror_mode": {
    "name": "ipython",
    "version": 3
   },
   "file_extension": ".py",
   "mimetype": "text/x-python",
   "name": "python",
   "nbconvert_exporter": "python",
   "pygments_lexer": "ipython3",
   "version": "3.9.7"
  }
 },
 "nbformat": 4,
 "nbformat_minor": 5
}
