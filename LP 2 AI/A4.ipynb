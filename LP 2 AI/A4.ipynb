{
 "cells": [
  {
   "cell_type": "markdown",
   "id": "7b48b069",
   "metadata": {},
   "source": [
    "# Assignment 4\n",
    "\n",
    "Name: Amina Shaikh <br>\n",
    "Roll No.: 3369 <br>\n",
    "\n",
    "Write a program for the Information Retrieval System using appropriate NLP tools (such as NLTK, Open NLP, …) <br>\n",
    "a. Text tokenization<br>\n",
    "b. Count word frequency<br>\n",
    "c. Remove stop words<br>\n",
    "d. POS tagging<br>"
   ]
  },
  {
   "cell_type": "code",
   "execution_count": 11,
   "id": "cd3cb7d6",
   "metadata": {},
   "outputs": [
    {
     "name": "stderr",
     "output_type": "stream",
     "text": [
      "[nltk_data] Downloading package punkt to\n",
      "[nltk_data]     C:\\Users\\amina\\AppData\\Roaming\\nltk_data...\n",
      "[nltk_data]   Package punkt is already up-to-date!\n",
      "[nltk_data] Downloading package stopwords to\n",
      "[nltk_data]     C:\\Users\\amina\\AppData\\Roaming\\nltk_data...\n",
      "[nltk_data]   Package stopwords is already up-to-date!\n",
      "[nltk_data] Downloading package averaged_perceptron_tagger to\n",
      "[nltk_data]     C:\\Users\\amina\\AppData\\Roaming\\nltk_data...\n",
      "[nltk_data]   Package averaged_perceptron_tagger is already up-to-\n",
      "[nltk_data]       date!\n"
     ]
    },
    {
     "data": {
      "text/plain": [
       "True"
      ]
     },
     "execution_count": 11,
     "metadata": {},
     "output_type": "execute_result"
    }
   ],
   "source": [
    "import nltk\n",
    "nltk.download(\"punkt\")\n",
    "from nltk.corpus import stopwords\n",
    "nltk.download(\"stopwords\")\n",
    "from nltk.tokenize import word_tokenize\n",
    "from nltk.probability import FreqDist\n",
    "from nltk.tag import pos_tag\n",
    "nltk.download('averaged_perceptron_tagger')"
   ]
  },
  {
   "cell_type": "code",
   "execution_count": 12,
   "id": "6de4ba1e",
   "metadata": {},
   "outputs": [
    {
     "name": "stdout",
     "output_type": "stream",
     "text": [
      "\n",
      "Enter the String : \n",
      "\n",
      "A very beautiful young lady is walking on the beach\n",
      "\n",
      "=========================================\n",
      "\n",
      "Tokenized Words : \n",
      " \n",
      "['A', 'very', 'beautiful', 'young', 'lady', 'is', 'walking', 'on', 'the', 'beach']\n",
      "\n",
      "=========================================\n",
      "\n",
      "Word Frequency : \n",
      "\n",
      "a : 1\n",
      "very : 1\n",
      "beautiful : 1\n",
      "young : 1\n",
      "lady : 1\n",
      "is : 1\n",
      "walking : 1\n",
      "on : 1\n",
      "the : 1\n",
      "beach : 1\n",
      "\n",
      "=========================================\n",
      "\n",
      "Filtered words : \n",
      "\n",
      "['beautiful', 'young', 'lady', 'walking', 'beach']\n",
      "\n",
      "=========================================\n",
      "\n",
      "Part Of Speech Tags:\n",
      "('a', 'DT')\n",
      "('very', 'RB')\n",
      "('beautiful', 'JJ')\n",
      "('young', 'JJ')\n",
      "('lady', 'NN')\n",
      "('is', 'VBZ')\n",
      "('walking', 'VBG')\n",
      "('on', 'IN')\n",
      "('the', 'DT')\n",
      "('beach', 'NN')\n",
      "\n",
      "=========================================\n",
      "\n"
     ]
    }
   ],
   "source": [
    "# Define the text that to be analyzed\n",
    "text = input(\"\\nEnter the String : \\n\\n\")\n",
    "print(\"\\n=========================================\\n\")\n",
    "\n",
    "\n",
    "# Tokenize the text into words.\n",
    "words = word_tokenize(text)\n",
    "print(\"Tokenized Words : \\n \")\n",
    "print(words)\n",
    "print(\"\\n=========================================\\n\")\n",
    "\n",
    "\n",
    "# convert all words to lowercase\n",
    "words = [word.lower() for word in words]\n",
    "\n",
    "\n",
    "# Count the frequency of each word.\n",
    "fdist = FreqDist(words)\n",
    "print(\"Word Frequency : \\n\")\n",
    "for word, freq in fdist.items():\n",
    "    print(f\"{word} : {freq}\")    \n",
    "print(\"\\n=========================================\\n\")\n",
    "\n",
    "    \n",
    "# Remove Stopwords\n",
    "stop_words = set(stopwords.words(\"english\"))\n",
    "filtered_words = [word for word in words if word.casefold() not in stop_words]\n",
    "print(\"Filtered words : \\n\")\n",
    "print(filtered_words)\n",
    "print(\"\\n=========================================\\n\")\n",
    "\n",
    "\n",
    "#Perform POS tagging\n",
    "pos_tags = pos_tag(words)\n",
    "print(\"Part Of Speech Tags:\")\n",
    "for tag in pos_tags:\n",
    "    print(tag)\n",
    "print(\"\\n=========================================\\n\")"
   ]
  },
  {
   "cell_type": "code",
   "execution_count": null,
   "id": "9280d04d",
   "metadata": {},
   "outputs": [],
   "source": []
  }
 ],
 "metadata": {
  "kernelspec": {
   "display_name": "Python 3 (ipykernel)",
   "language": "python",
   "name": "python3"
  },
  "language_info": {
   "codemirror_mode": {
    "name": "ipython",
    "version": 3
   },
   "file_extension": ".py",
   "mimetype": "text/x-python",
   "name": "python",
   "nbconvert_exporter": "python",
   "pygments_lexer": "ipython3",
   "version": "3.9.7"
  }
 },
 "nbformat": 4,
 "nbformat_minor": 5
}
