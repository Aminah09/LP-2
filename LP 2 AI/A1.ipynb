{
 "cells": [
  {
   "cell_type": "markdown",
   "id": "8d215657",
   "metadata": {},
   "source": [
    "# Assignment 1\n",
    "\n",
    "Name: Amina Shaikh <br>\n",
    "Roll No.: 3369 <br>\n",
    "\n",
    "Identify and Implement heuristic and search strategy for Travelling Salesperson Problem"
   ]
  },
  {
   "cell_type": "code",
   "execution_count": 9,
   "id": "78d78e51",
   "metadata": {},
   "outputs": [
    {
     "name": "stdout",
     "output_type": "stream",
     "text": [
      "Enter the number of rows:4\n",
      "Enter the number of columns:4\n",
      "Enter the entries rowwise:\n",
      "0 5 15 4\n",
      "5 0 35 25\n",
      "15 35 0 30\n",
      "4 25 30 0\n",
      "\n",
      "The distance matrix is \n",
      "0 5 15 4 \n",
      "5 0 35 25 \n",
      "15 35 0 30 \n",
      "4 25 30 0 \n",
      "\n",
      "Starting point:  0\n",
      "Tour: [0, 3, 1, 2, 0]\n",
      "Total cost: 79\n",
      "---------------------------------\n",
      "\n",
      "Starting point:  1\n",
      "Tour: [1, 0, 3, 2, 1]\n",
      "Total cost: 74\n",
      "---------------------------------\n",
      "\n",
      "Starting point:  2\n",
      "Tour: [2, 0, 3, 1, 2]\n",
      "Total cost: 79\n",
      "---------------------------------\n",
      "\n",
      "Starting point:  3\n",
      "Tour: [3, 0, 1, 2, 3]\n",
      "Total cost: 74\n",
      "---------------------------------\n"
     ]
    }
   ],
   "source": [
    "import sys\n",
    "def nearest_neighbour(curr, unvisited, dist_matrix):\n",
    "  nearest = sys.maxsize\n",
    "  neighbour = None\n",
    "  for city in unvisited:\n",
    "    if dist_matrix[curr][city] < nearest:\n",
    "      nearest = dist_matrix[curr][city]\n",
    "      neighbour = city\n",
    "  return neighbour, nearest\n",
    "\n",
    "def tsp_nn(dist_matrix,num):\n",
    "    print('\\nStarting point: ',num)\n",
    "    n = len(dist_matrix)\n",
    "    tour = [0] * (n+1)\n",
    "    unvisited = set(range(0,n))\n",
    "    unvisited.discard(num)\n",
    "    curr_city = num\n",
    "  \n",
    "    for i in range(1,n):\n",
    "        next_city, dist = nearest_neighbour(curr_city, unvisited, dist_matrix)\n",
    "        tour[i] = next_city\n",
    "        curr_city = next_city\n",
    "        unvisited.remove(next_city)\n",
    "        \n",
    "    tour[n] = num                 # Return to the starting city\n",
    "    tour[0] = num                 # Calculate the total cost of the tour\n",
    "    cost = sum(dist_matrix[tour[i]][tour[i+1]] for i in range(n-1))\n",
    "    cost += dist_matrix[tour[n-1]][tour[0]]\n",
    "    return tour,cost\n",
    "\n",
    "R = int(input(\"Enter the number of rows:\"))\n",
    "C = int(input(\"Enter the number of columns:\"))\n",
    "\n",
    "dist_matrix = []\n",
    "print(\"Enter the entries rowwise:\")\n",
    "\n",
    "for i in range(R):  \n",
    "    a = list(map(int, input().split()))  \n",
    "    dist_matrix.append(a)  \n",
    "print(\"\\nThe distance matrix is \")\n",
    "\n",
    "for i in range(R):\n",
    "    for j in range(C):\n",
    "        print(dist_matrix[i][j], end = \" \")\n",
    "    print()\n",
    "    \n",
    "for num in range(len(dist_matrix)):\n",
    "    tour,cost=tsp_nn(dist_matrix,num)\n",
    "    print(\"Tour:\",tour)\n",
    "    print(\"Total cost:\" , cost)\n",
    "    \n",
    "    print('---------------------------------')"
   ]
  }
 ],
 "metadata": {
  "kernelspec": {
   "display_name": "Python 3 (ipykernel)",
   "language": "python",
   "name": "python3"
  },
  "language_info": {
   "codemirror_mode": {
    "name": "ipython",
    "version": 3
   },
   "file_extension": ".py",
   "mimetype": "text/x-python",
   "name": "python",
   "nbconvert_exporter": "python",
   "pygments_lexer": "ipython3",
   "version": "3.9.7"
  }
 },
 "nbformat": 4,
 "nbformat_minor": 5
}
